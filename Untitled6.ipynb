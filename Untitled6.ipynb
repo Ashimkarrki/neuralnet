{
 "cells": [
  {
   "cell_type": "code",
   "execution_count": 116,
   "metadata": {
    "scrolled": true
   },
   "outputs": [
    {
     "data": {
      "text/plain": [
       "(array([[82, 21, 84, 76, 41, 78, 94, 59, 98, 75],\n",
       "        [27, 33, 70, 44,  4, 53, 14, 18, 79, 31],\n",
       "        [65,  8, 63, 83, 99, 67, 61, 39,  5, 64],\n",
       "        [42, 91,  1, 29, 97, 73, 32, 56, 58, 28],\n",
       "        [25, 92, 88, 62, 60, 51, 85, 74, 45, 96],\n",
       "        [90, 43, 16, 22,  3, 66, 93, 77, 81, 68],\n",
       "        [47, 13, 86, 20, 48, 87, 50, 35,  2, 15],\n",
       "        [12, 69, 55,  9, 38, 46, 72, 54, 19, 23],\n",
       "        [ 6, 40, 10, 80, 37,  7, 34, 49, 24, 52],\n",
       "        [71, 36, 95, 57, 89, 26, 30, 17, 11,  0]]),\n",
       " array([[87, 18, 83, 90,  4, 35, 99, 92, 26, 33],\n",
       "        [13, 62, 72, 22, 50, 41,  7, 74,  1,  3],\n",
       "        [39, 44, 12, 86, 75,  6, 76, 85,  9, 56],\n",
       "        [47, 10, 80, 70, 91, 21, 24, 53, 30, 82],\n",
       "        [32, 49, 46, 48, 79, 84, 15, 31, 55, 45],\n",
       "        [11, 89, 23, 58, 57, 29, 63, 34, 36, 28],\n",
       "        [81,  0, 66, 51, 78, 42, 38, 88, 27, 77],\n",
       "        [94, 19, 16, 14, 40, 68, 98, 93, 67,  8],\n",
       "        [37, 17, 96,  2, 59, 64, 73, 97,  5, 54],\n",
       "        [43, 95, 69, 61, 20, 60, 52, 65, 71, 25]]))"
      ]
     },
     "execution_count": 116,
     "metadata": {},
     "output_type": "execute_result"
    }
   ],
   "source": [
    "import numpy as np\n",
    "x=np.arange(100)\n",
    "y=np.arange(100)\n",
    "np.random.shuffle(x)\n",
    "np.random.shuffle(y)\n",
    "x=x.reshape([10,10])\n",
    "y=y.reshape([10,10])\n",
    "x,y"
   ]
  },
  {
   "cell_type": "code",
   "execution_count": 47,
   "metadata": {},
   "outputs": [],
   "source": [
    "def acti(x):\n",
    "    return 1./(1.+np.exp(-x))\n",
    "def deri(x):\n",
    "    return x*(1-x)"
   ]
  },
  {
   "cell_type": "code",
   "execution_count": 212,
   "metadata": {},
   "outputs": [],
   "source": [
    "class network:\n",
    "    def __init__(self,layers):\n",
    "        self.lay=layers\n",
    "        self.num_layer=len(layers)-1\n",
    "        self.layers=layers[1:]\n",
    "        self.bias=[np.random.rand(x,1) for x in self.layers]\n",
    "        self.weights=[np.random.rand(self.lay[x+1],self.lay[x]) for x in range(self.num_layer)]\n",
    "        self.total_biasg=np.array([np.zeros([x,1]) for x in self.layers])\n",
    "        self.total_weightg=np.array([np.zeros([self.lay[x+1],self.lay[x]]) for x in range(self.num_layer)])\n",
    "        self.total_loss=0\n",
    "    def forward(self,a,x=0):\n",
    "        if(x==self.num_layer-1):\n",
    "            return np.dot(self.weights[x],a)+self.bias[x]\n",
    "        return acti(np.dot(self.weights[x],a)+self.bias[x])\n",
    "    def calculate(self,x):\n",
    "        x=np.array(x).reshape(len(x),1)\n",
    "        for w,b in zip(self.weights,self.bias):\n",
    "            x=np.dot(w,x)+b\n",
    "        return x\n",
    "    def backward(self,inputs,outputs):\n",
    "        self.inputs=np.array(inputs,dtype=np.float64).reshape(len(inputs),1)\n",
    "        self.outputs=np.array(outputs,dtype=np.float64).reshape(len(outputs),1)\n",
    "        activation=[]\n",
    "        activation.append(self.inputs)\n",
    "        for x in range(self.num_layer):\n",
    "            a=activation[x]\n",
    "            activation.append(self.forward(a,x))\n",
    "        errors=[np.zeros([x,1]) for x in self.layers]\n",
    "        errors[-1]=((activation[-1]-self.outputs))\n",
    "        loss=(errors[-1])/2\n",
    "        self.total_loss+=loss\n",
    "        for x in range(self.num_layer-1):\n",
    "            errors[-2-x]=np.dot(np.transpose(self.weights[-1-x]),errors[-1-x])*activation[-2-x]\n",
    "        weight_grad=[]\n",
    "        bias_grad=errors.copy()\n",
    "        for x in range(self.num_layer):\n",
    "            weight_grad.append(np.dot(errors[x],np.transpose(activation[x])))\n",
    "        self.total_biasg+=np.array(bias_grad)\n",
    "        self.total_weightg+=np.array(weight_grad)\n",
    "        \n",
    "        del activation\n",
    "    def update(self,batch_size,lr):\n",
    "        a=np.array(self.total_biasg)/batch_size\n",
    "        b=np.array(self.total_weightg)/batch_size\n",
    "        for x in range(self.num_layer):\n",
    "            self.weights[x]-=lr*b[x]\n",
    "            self.bias[x]-=lr*a[x]\n",
    "        self.total_biasg=[np.zeros([x,1]) for x in self.layers]\n",
    "        self.total_weightg=[np.zeros([self.lay[x+1],self.lay[x]]) for x in range(self.num_layer)]\n",
    "    def calc_loss(self,batch_size):\n",
    "        a=self.total_loss/batch_size\n",
    "        self.total_loss=0\n",
    "        return a\n",
    "        \n",
    "        \n",
    "nn=network([2,2,1])#it means input of 2 with 1st hidden layer of neuron 2 and output 1 \n",
    "#u can change it too\n",
    "# fo eg [3,64,32 16,7]\n",
    "\n"
   ]
  },
  {
   "cell_type": "code",
   "execution_count": 233,
   "metadata": {},
   "outputs": [],
   "source": [
    "for o in range(2000):#you can change the 10000 as your wish\n",
    "    for i,j in zip(x,y):\n",
    "        for q,w in zip(i,j):\n",
    "            nn.backward([q,w],[q+w])# the function is f(x,y)=x+y\n",
    "        \n",
    "        nn.update(10,lr=(1e-9)/1.5)#and lr too but  not the 10\n",
    "    "
   ]
  },
  {
   "cell_type": "code",
   "execution_count": 234,
   "metadata": {},
   "outputs": [
    {
     "data": {
      "text/plain": [
       "array([[227.23526474]])"
      ]
     },
     "execution_count": 234,
     "metadata": {},
     "output_type": "execute_result"
    }
   ],
   "source": [
    "nn.calculate([100,100])# after changing the appropriate and appropriately the values you should get the addition of them in this case 20 and 48"
   ]
  },
  {
   "cell_type": "code",
   "execution_count": null,
   "metadata": {},
   "outputs": [],
   "source": []
  },
  {
   "cell_type": "code",
   "execution_count": null,
   "metadata": {},
   "outputs": [],
   "source": []
  },
  {
   "cell_type": "code",
   "execution_count": null,
   "metadata": {},
   "outputs": [],
   "source": []
  }
 ],
 "metadata": {
  "kernelspec": {
   "display_name": "Python 3",
   "language": "python",
   "name": "python3"
  },
  "language_info": {
   "codemirror_mode": {
    "name": "ipython",
    "version": 3
   },
   "file_extension": ".py",
   "mimetype": "text/x-python",
   "name": "python",
   "nbconvert_exporter": "python",
   "pygments_lexer": "ipython3",
   "version": "3.7.6"
  }
 },
 "nbformat": 4,
 "nbformat_minor": 4
}
